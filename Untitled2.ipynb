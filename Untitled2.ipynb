{
  "nbformat": 4,
  "nbformat_minor": 0,
  "metadata": {
    "colab": {
      "name": "Untitled2.ipynb",
      "version": "0.3.2",
      "provenance": []
    },
    "kernelspec": {
      "name": "python3",
      "display_name": "Python 3"
    }
  },
  "cells": [
    {
      "cell_type": "code",
      "metadata": {
        "id": "J5tLyP-xGQeS",
        "colab_type": "code",
        "colab": {}
      },
      "source": [
        "import math\n",
        "import warnings\n",
        "\n",
        "from IPython.display import display\n",
        "from matplotlib import pyplot as plt\n",
        "import numpy as np\n",
        "import pandas as pd\n",
        "import seaborn as sns\n",
        "from sklearn import linear_model\n",
        "import statsmodels.formula.api as smf\n",
        "\n",
        "# Display preferences.\n",
        "%matplotlib inline\n",
        "pd.options.display.float_format = '{:.3f}'.format\n",
        "\n",
        "# Suppress annoying harmless error.\n",
        "warnings.filterwarnings(\n",
        "    action=\"ignore\",\n",
        "    module=\"scipy\",\n",
        "    message=\"^internal gelsd\"\n",
        ")"
      ],
      "execution_count": 0,
      "outputs": []
    },
    {
      "cell_type": "code",
      "metadata": {
        "id": "ibfYdM9eGXfA",
        "colab_type": "code",
        "colab": {
          "base_uri": "https://localhost:8080/",
          "height": 366
        },
        "outputId": "eccff83d-4aa6-44e6-c8f0-9baf6b96771b"
      },
      "source": [
        "# Acquire, load, and preview the data.\n",
        "data = pd.read_csv('https://tf-curricula-prod.s3.amazonaws.com/data-science/Advertising.csv')\n",
        "display(data.head())\n",
        "\n",
        "# Instantiate and fit our model.\n",
        "regr = linear_model.LinearRegression()\n",
        "Y = data['Sales'].values.reshape(-1, 1)\n",
        "X = data[['TV','Radio','Newspaper']]\n",
        "regr.fit(X, Y)\n",
        "\n",
        "# Inspect the results.\n",
        "print('\\nCoefficients: \\n', regr.coef_)\n",
        "print('\\nIntercept: \\n', regr.intercept_)\n",
        "print('\\nR-squared:')\n",
        "print(regr.score(X, Y))"
      ],
      "execution_count": 2,
      "outputs": [
        {
          "output_type": "display_data",
          "data": {
            "text/html": [
              "<div>\n",
              "<style scoped>\n",
              "    .dataframe tbody tr th:only-of-type {\n",
              "        vertical-align: middle;\n",
              "    }\n",
              "\n",
              "    .dataframe tbody tr th {\n",
              "        vertical-align: top;\n",
              "    }\n",
              "\n",
              "    .dataframe thead th {\n",
              "        text-align: right;\n",
              "    }\n",
              "</style>\n",
              "<table border=\"1\" class=\"dataframe\">\n",
              "  <thead>\n",
              "    <tr style=\"text-align: right;\">\n",
              "      <th></th>\n",
              "      <th>Unnamed: 0</th>\n",
              "      <th>TV</th>\n",
              "      <th>Radio</th>\n",
              "      <th>Newspaper</th>\n",
              "      <th>Sales</th>\n",
              "    </tr>\n",
              "  </thead>\n",
              "  <tbody>\n",
              "    <tr>\n",
              "      <th>0</th>\n",
              "      <td>1</td>\n",
              "      <td>230.100</td>\n",
              "      <td>37.800</td>\n",
              "      <td>69.200</td>\n",
              "      <td>22.100</td>\n",
              "    </tr>\n",
              "    <tr>\n",
              "      <th>1</th>\n",
              "      <td>2</td>\n",
              "      <td>44.500</td>\n",
              "      <td>39.300</td>\n",
              "      <td>45.100</td>\n",
              "      <td>10.400</td>\n",
              "    </tr>\n",
              "    <tr>\n",
              "      <th>2</th>\n",
              "      <td>3</td>\n",
              "      <td>17.200</td>\n",
              "      <td>45.900</td>\n",
              "      <td>69.300</td>\n",
              "      <td>9.300</td>\n",
              "    </tr>\n",
              "    <tr>\n",
              "      <th>3</th>\n",
              "      <td>4</td>\n",
              "      <td>151.500</td>\n",
              "      <td>41.300</td>\n",
              "      <td>58.500</td>\n",
              "      <td>18.500</td>\n",
              "    </tr>\n",
              "    <tr>\n",
              "      <th>4</th>\n",
              "      <td>5</td>\n",
              "      <td>180.800</td>\n",
              "      <td>10.800</td>\n",
              "      <td>58.400</td>\n",
              "      <td>12.900</td>\n",
              "    </tr>\n",
              "  </tbody>\n",
              "</table>\n",
              "</div>"
            ],
            "text/plain": [
              "   Unnamed: 0      TV  Radio  Newspaper  Sales\n",
              "0           1 230.100 37.800     69.200 22.100\n",
              "1           2  44.500 39.300     45.100 10.400\n",
              "2           3  17.200 45.900     69.300  9.300\n",
              "3           4 151.500 41.300     58.500 18.500\n",
              "4           5 180.800 10.800     58.400 12.900"
            ]
          },
          "metadata": {
            "tags": []
          }
        },
        {
          "output_type": "stream",
          "text": [
            "\n",
            "Coefficients: \n",
            " [[ 0.04576465  0.18853002 -0.00103749]]\n",
            "\n",
            "Intercept: \n",
            " [2.93888937]\n",
            "\n",
            "R-squared:\n",
            "0.8972106381789521\n"
          ],
          "name": "stdout"
        }
      ]
    },
    {
      "cell_type": "code",
      "metadata": {
        "id": "A9bZredCGaFf",
        "colab_type": "code",
        "colab": {
          "base_uri": "https://localhost:8080/",
          "height": 295
        },
        "outputId": "1af59327-6530-4b2a-8d2e-38c9a278438c"
      },
      "source": [
        "# Extract predicted values.\n",
        "predicted = regr.predict(X).ravel()\n",
        "actual = data['Sales']\n",
        "\n",
        "# Calculate the error, also called the residual.\n",
        "residual = actual - predicted\n",
        "\n",
        "# This looks a bit concerning.\n",
        "plt.hist(residual)\n",
        "plt.title('Residual counts')\n",
        "plt.xlabel('Residual')\n",
        "plt.ylabel('Count')\n",
        "plt.show()"
      ],
      "execution_count": 3,
      "outputs": [
        {
          "output_type": "display_data",
          "data": {
            "image/png": "[encoded data removed]",
            "text/plain": [
              "<Figure size 432x288 with 1 Axes>"
            ]
          },
          "metadata": {
            "tags": []
          }
        }
      ]
    },
    {
      "cell_type": "code",
      "metadata": {
        "id": "zkJDn9DuHXZV",
        "colab_type": "code",
        "colab": {
          "base_uri": "https://localhost:8080/",
          "height": 295
        },
        "outputId": "bfa43ac6-0301-460d-cb18-f7f0299c71c1"
      },
      "source": [
        "plt.scatter(predicted, residual)\n",
        "plt.xlabel('Predicted')\n",
        "plt.ylabel('Residual')\n",
        "plt.axhline(y=0)\n",
        "plt.title('Residual vs. Predicted')\n",
        "plt.show()\n",
        "\n",
        "# Hm... looks a bit concerning."
      ],
      "execution_count": 4,
      "outputs": [
        {
          "output_type": "display_data",
          "data": {
            "image/png": "[encoded data removed]",
            "text/plain": [
              "<Figure size 432x288 with 1 Axes>"
            ]
          },
          "metadata": {
            "tags": []
          }
        }
      ]
    },
    {
      "cell_type": "code",
      "metadata": {
        "id": "93RhyuG_Hdd1",
        "colab_type": "code",
        "colab": {
          "base_uri": "https://localhost:8080/",
          "height": 297
        },
        "outputId": "7cd105eb-c027-44c1-fdf7-8e6f71daa61b"
      },
      "source": [
        "data.describe()"
      ],
      "execution_count": 5,
      "outputs": [
        {
          "output_type": "execute_result",
          "data": {
            "text/html": [
              "<div>\n",
              "<style scoped>\n",
              "    .dataframe tbody tr th:only-of-type {\n",
              "        vertical-align: middle;\n",
              "    }\n",
              "\n",
              "    .dataframe tbody tr th {\n",
              "        vertical-align: top;\n",
              "    }\n",
              "\n",
              "    .dataframe thead th {\n",
              "        text-align: right;\n",
              "    }\n",
              "</style>\n",
              "<table border=\"1\" class=\"dataframe\">\n",
              "  <thead>\n",
              "    <tr style=\"text-align: right;\">\n",
              "      <th></th>\n",
              "      <th>Unnamed: 0</th>\n",
              "      <th>TV</th>\n",
              "      <th>Radio</th>\n",
              "      <th>Newspaper</th>\n",
              "      <th>Sales</th>\n",
              "    </tr>\n",
              "  </thead>\n",
              "  <tbody>\n",
              "    <tr>\n",
              "      <th>count</th>\n",
              "      <td>200.000</td>\n",
              "      <td>200.000</td>\n",
              "      <td>200.000</td>\n",
              "      <td>200.000</td>\n",
              "      <td>200.000</td>\n",
              "    </tr>\n",
              "    <tr>\n",
              "      <th>mean</th>\n",
              "      <td>100.500</td>\n",
              "      <td>147.042</td>\n",
              "      <td>23.264</td>\n",
              "      <td>30.554</td>\n",
              "      <td>14.023</td>\n",
              "    </tr>\n",
              "    <tr>\n",
              "      <th>std</th>\n",
              "      <td>57.879</td>\n",
              "      <td>85.854</td>\n",
              "      <td>14.847</td>\n",
              "      <td>21.779</td>\n",
              "      <td>5.217</td>\n",
              "    </tr>\n",
              "    <tr>\n",
              "      <th>min</th>\n",
              "      <td>1.000</td>\n",
              "      <td>0.700</td>\n",
              "      <td>0.000</td>\n",
              "      <td>0.300</td>\n",
              "      <td>1.600</td>\n",
              "    </tr>\n",
              "    <tr>\n",
              "      <th>25%</th>\n",
              "      <td>50.750</td>\n",
              "      <td>74.375</td>\n",
              "      <td>9.975</td>\n",
              "      <td>12.750</td>\n",
              "      <td>10.375</td>\n",
              "    </tr>\n",
              "    <tr>\n",
              "      <th>50%</th>\n",
              "      <td>100.500</td>\n",
              "      <td>149.750</td>\n",
              "      <td>22.900</td>\n",
              "      <td>25.750</td>\n",
              "      <td>12.900</td>\n",
              "    </tr>\n",
              "    <tr>\n",
              "      <th>75%</th>\n",
              "      <td>150.250</td>\n",
              "      <td>218.825</td>\n",
              "      <td>36.525</td>\n",
              "      <td>45.100</td>\n",
              "      <td>17.400</td>\n",
              "    </tr>\n",
              "    <tr>\n",
              "      <th>max</th>\n",
              "      <td>200.000</td>\n",
              "      <td>296.400</td>\n",
              "      <td>49.600</td>\n",
              "      <td>114.000</td>\n",
              "      <td>27.000</td>\n",
              "    </tr>\n",
              "  </tbody>\n",
              "</table>\n",
              "</div>"
            ],
            "text/plain": [
              "       Unnamed: 0      TV   Radio  Newspaper   Sales\n",
              "count     200.000 200.000 200.000    200.000 200.000\n",
              "mean      100.500 147.042  23.264     30.554  14.023\n",
              "std        57.879  85.854  14.847     21.779   5.217\n",
              "min         1.000   0.700   0.000      0.300   1.600\n",
              "25%        50.750  74.375   9.975     12.750  10.375\n",
              "50%       100.500 149.750  22.900     25.750  12.900\n",
              "75%       150.250 218.825  36.525     45.100  17.400\n",
              "max       200.000 296.400  49.600    114.000  27.000"
            ]
          },
          "metadata": {
            "tags": []
          },
          "execution_count": 5
        }
      ]
    },
    {
      "cell_type": "code",
      "metadata": {
        "id": "OjVaRORZMki1",
        "colab_type": "code",
        "colab": {
          "base_uri": "https://localhost:8080/",
          "height": 513
        },
        "outputId": "27df772e-e667-49db-a267-e4e0b26e050c"
      },
      "source": [
        "sns.set_style(\"dark\")\n",
        "plt.figure(figsize=(28,8)) #subplot for my two boxplots\n",
        "\n",
        "plt.subplot(131)\n",
        "ax = sns.boxplot(x='TV', data=data).set_title('TV ad prices')\n",
        "ax = sns.swarmplot(x='TV', data=data, color='0.25')\n",
        "\n",
        "plt.subplot(132)\n",
        "ax = sns.boxplot(x='Radio', data=data).set_title('Radio Ads')\n",
        "ax = sns.swarmplot(x='Radio', data=data, color='.25')\n",
        "\n",
        "plt.subplot(133)\n",
        "ax = sns.boxplot(x='Newspaper', data=data).set_title('Newspaper ads')\n",
        "ax = sns.swarmplot(x=\"Newspaper\", data=data, color=\".25\")\n",
        "\n",
        "#newspaper has some outliers and it seems like more points by the 1st quartile"
      ],
      "execution_count": 6,
      "outputs": [
        {
          "output_type": "display_data",
          "data": {
            "image/png": "[encoded data removed]",
            "text/plain": [
              "<Figure size 2016x576 with 3 Axes>"
            ]
          },
          "metadata": {
            "tags": []
          }
        }
      ]
    },
    {
      "cell_type": "code",
      "metadata": {
        "id": "tIquiKkzPdEZ",
        "colab_type": "code",
        "colab": {
          "base_uri": "https://localhost:8080/",
          "height": 111
        },
        "outputId": "28a1d356-26fa-4374-ad5f-42cb59ea0a04"
      },
      "source": [
        "out = data.loc[lambda df:data['Newspaper'] > 100]\n",
        "out\n",
        "#I have found my outliers but I'm not sure how to proceed with modifying them. I'm going to replace them with values close to the mean"
      ],
      "execution_count": 7,
      "outputs": [
        {
          "output_type": "execute_result",
          "data": {
            "text/html": [
              "<div>\n",
              "<style scoped>\n",
              "    .dataframe tbody tr th:only-of-type {\n",
              "        vertical-align: middle;\n",
              "    }\n",
              "\n",
              "    .dataframe tbody tr th {\n",
              "        vertical-align: top;\n",
              "    }\n",
              "\n",
              "    .dataframe thead th {\n",
              "        text-align: right;\n",
              "    }\n",
              "</style>\n",
              "<table border=\"1\" class=\"dataframe\">\n",
              "  <thead>\n",
              "    <tr style=\"text-align: right;\">\n",
              "      <th></th>\n",
              "      <th>Unnamed: 0</th>\n",
              "      <th>TV</th>\n",
              "      <th>Radio</th>\n",
              "      <th>Newspaper</th>\n",
              "      <th>Sales</th>\n",
              "    </tr>\n",
              "  </thead>\n",
              "  <tbody>\n",
              "    <tr>\n",
              "      <th>16</th>\n",
              "      <td>17</td>\n",
              "      <td>67.800</td>\n",
              "      <td>36.600</td>\n",
              "      <td>114.000</td>\n",
              "      <td>12.500</td>\n",
              "    </tr>\n",
              "    <tr>\n",
              "      <th>101</th>\n",
              "      <td>102</td>\n",
              "      <td>296.400</td>\n",
              "      <td>36.300</td>\n",
              "      <td>100.900</td>\n",
              "      <td>23.800</td>\n",
              "    </tr>\n",
              "  </tbody>\n",
              "</table>\n",
              "</div>"
            ],
            "text/plain": [
              "     Unnamed: 0      TV  Radio  Newspaper  Sales\n",
              "16           17  67.800 36.600    114.000 12.500\n",
              "101         102 296.400 36.300    100.900 23.800"
            ]
          },
          "metadata": {
            "tags": []
          },
          "execution_count": 7
        }
      ]
    },
    {
      "cell_type": "code",
      "metadata": {
        "id": "vK4eDXNOj_z_",
        "colab_type": "code",
        "colab": {
          "base_uri": "https://localhost:8080/",
          "height": 291
        },
        "outputId": "e9cc1005-6f90-4119-ce29-38b30a9b2bce"
      },
      "source": [
        "out.Newspaper.loc[[101, 16]] = 30.5\n",
        "out"
      ],
      "execution_count": 8,
      "outputs": [
        {
          "output_type": "stream",
          "text": [
            "/usr/local/lib/python3.6/dist-packages/pandas/core/indexing.py:190: SettingWithCopyWarning: \n",
            "A value is trying to be set on a copy of a slice from a DataFrame\n",
            "\n",
            "See the caveats in the documentation: http://pandas.pydata.org/pandas-docs/stable/indexing.html#indexing-view-versus-copy\n",
            "  self._setitem_with_indexer(indexer, value)\n",
            "/usr/local/lib/python3.6/dist-packages/ipykernel_launcher.py:1: SettingWithCopyWarning: \n",
            "A value is trying to be set on a copy of a slice from a DataFrame\n",
            "\n",
            "See the caveats in the documentation: http://pandas.pydata.org/pandas-docs/stable/indexing.html#indexing-view-versus-copy\n",
            "  \"\"\"Entry point for launching an IPython kernel.\n"
          ],
          "name": "stderr"
        },
        {
          "output_type": "execute_result",
          "data": {
            "text/html": [
              "<div>\n",
              "<style scoped>\n",
              "    .dataframe tbody tr th:only-of-type {\n",
              "        vertical-align: middle;\n",
              "    }\n",
              "\n",
              "    .dataframe tbody tr th {\n",
              "        vertical-align: top;\n",
              "    }\n",
              "\n",
              "    .dataframe thead th {\n",
              "        text-align: right;\n",
              "    }\n",
              "</style>\n",
              "<table border=\"1\" class=\"dataframe\">\n",
              "  <thead>\n",
              "    <tr style=\"text-align: right;\">\n",
              "      <th></th>\n",
              "      <th>Unnamed: 0</th>\n",
              "      <th>TV</th>\n",
              "      <th>Radio</th>\n",
              "      <th>Newspaper</th>\n",
              "      <th>Sales</th>\n",
              "    </tr>\n",
              "  </thead>\n",
              "  <tbody>\n",
              "    <tr>\n",
              "      <th>16</th>\n",
              "      <td>17</td>\n",
              "      <td>67.800</td>\n",
              "      <td>36.600</td>\n",
              "      <td>30.500</td>\n",
              "      <td>12.500</td>\n",
              "    </tr>\n",
              "    <tr>\n",
              "      <th>101</th>\n",
              "      <td>102</td>\n",
              "      <td>296.400</td>\n",
              "      <td>36.300</td>\n",
              "      <td>30.500</td>\n",
              "      <td>23.800</td>\n",
              "    </tr>\n",
              "  </tbody>\n",
              "</table>\n",
              "</div>"
            ],
            "text/plain": [
              "     Unnamed: 0      TV  Radio  Newspaper  Sales\n",
              "16           17  67.800 36.600     30.500 12.500\n",
              "101         102 296.400 36.300     30.500 23.800"
            ]
          },
          "metadata": {
            "tags": []
          },
          "execution_count": 8
        }
      ]
    },
    {
      "cell_type": "code",
      "metadata": {
        "id": "H2ExZQp1jk50",
        "colab_type": "code",
        "colab": {
          "base_uri": "https://localhost:8080/",
          "height": 107
        },
        "outputId": "6d8bdabd-7941-4af6-f911-ac7aa74b1c49"
      },
      "source": [
        "\n",
        "data2 = data \n",
        "data2.Newspaper.loc[[16,101]] = 30.5 #repeating process for my copy dataframe"
      ],
      "execution_count": 9,
      "outputs": [
        {
          "output_type": "stream",
          "text": [
            "/usr/local/lib/python3.6/dist-packages/pandas/core/indexing.py:190: SettingWithCopyWarning: \n",
            "A value is trying to be set on a copy of a slice from a DataFrame\n",
            "\n",
            "See the caveats in the documentation: http://pandas.pydata.org/pandas-docs/stable/indexing.html#indexing-view-versus-copy\n",
            "  self._setitem_with_indexer(indexer, value)\n"
          ],
          "name": "stderr"
        }
      ]
    },
    {
      "cell_type": "code",
      "metadata": {
        "id": "B7sm8rJclxxn",
        "colab_type": "code",
        "colab": {}
      },
      "source": [
        "data2['logged Sales'] = np.log(data2.Sales)\n"
      ],
      "execution_count": 0,
      "outputs": []
    },
    {
      "cell_type": "code",
      "metadata": {
        "id": "wto6bfSDqVVi",
        "colab_type": "code",
        "colab": {
          "base_uri": "https://localhost:8080/",
          "height": 142
        },
        "outputId": "03a7e610-d38f-40fc-846d-f27b40dfe2af"
      },
      "source": [
        "data2.drop(columns=['Sales'])\n",
        "data2.head(3)   "
      ],
      "execution_count": 11,
      "outputs": [
        {
          "output_type": "execute_result",
          "data": {
            "text/html": [
              "<div>\n",
              "<style scoped>\n",
              "    .dataframe tbody tr th:only-of-type {\n",
              "        vertical-align: middle;\n",
              "    }\n",
              "\n",
              "    .dataframe tbody tr th {\n",
              "        vertical-align: top;\n",
              "    }\n",
              "\n",
              "    .dataframe thead th {\n",
              "        text-align: right;\n",
              "    }\n",
              "</style>\n",
              "<table border=\"1\" class=\"dataframe\">\n",
              "  <thead>\n",
              "    <tr style=\"text-align: right;\">\n",
              "      <th></th>\n",
              "      <th>Unnamed: 0</th>\n",
              "      <th>TV</th>\n",
              "      <th>Radio</th>\n",
              "      <th>Newspaper</th>\n",
              "      <th>Sales</th>\n",
              "      <th>logged Sales</th>\n",
              "    </tr>\n",
              "  </thead>\n",
              "  <tbody>\n",
              "    <tr>\n",
              "      <th>0</th>\n",
              "      <td>1</td>\n",
              "      <td>230.100</td>\n",
              "      <td>37.800</td>\n",
              "      <td>69.200</td>\n",
              "      <td>22.100</td>\n",
              "      <td>3.096</td>\n",
              "    </tr>\n",
              "    <tr>\n",
              "      <th>1</th>\n",
              "      <td>2</td>\n",
              "      <td>44.500</td>\n",
              "      <td>39.300</td>\n",
              "      <td>45.100</td>\n",
              "      <td>10.400</td>\n",
              "      <td>2.342</td>\n",
              "    </tr>\n",
              "    <tr>\n",
              "      <th>2</th>\n",
              "      <td>3</td>\n",
              "      <td>17.200</td>\n",
              "      <td>45.900</td>\n",
              "      <td>69.300</td>\n",
              "      <td>9.300</td>\n",
              "      <td>2.230</td>\n",
              "    </tr>\n",
              "  </tbody>\n",
              "</table>\n",
              "</div>"
            ],
            "text/plain": [
              "   Unnamed: 0      TV  Radio  Newspaper  Sales  logged Sales\n",
              "0           1 230.100 37.800     69.200 22.100         3.096\n",
              "1           2  44.500 39.300     45.100 10.400         2.342\n",
              "2           3  17.200 45.900     69.300  9.300         2.230"
            ]
          },
          "metadata": {
            "tags": []
          },
          "execution_count": 11
        }
      ]
    },
    {
      "cell_type": "code",
      "metadata": {
        "id": "pQicIIaeqxhZ",
        "colab_type": "code",
        "colab": {
          "base_uri": "https://localhost:8080/",
          "height": 179
        },
        "outputId": "ad7532f8-c2b5-4606-ad8b-3fcf516a8e65"
      },
      "source": [
        "# Trying out my new model on my modified dataframe\n",
        "\n",
        "# Instantiate and fit our model.\n",
        "regr2 = linear_model.LinearRegression()\n",
        "Y = data2['logged Sales'].values.reshape(-1, 1)\n",
        "X = data2[['TV','Radio','Newspaper']]\n",
        "regr2.fit(X, Y)\n",
        "\n",
        "# Inspect the results.\n",
        "print('\\nCoefficients: \\n', regr2.coef_)\n",
        "print('\\nIntercept: \\n', regr2.intercept_)\n",
        "print('\\nR-squared:')\n",
        "print(regr2.score(X, Y))"
      ],
      "execution_count": 12,
      "outputs": [
        {
          "output_type": "stream",
          "text": [
            "\n",
            "Coefficients: \n",
            " [[0.00367021 0.01180024 0.00039226]]\n",
            "\n",
            "Intercept: \n",
            " [1.73810962]\n",
            "\n",
            "R-squared:\n",
            "0.7997877700331448\n"
          ],
          "name": "stdout"
        }
      ]
    },
    {
      "cell_type": "code",
      "metadata": {
        "id": "TBo-P5ehtG40",
        "colab_type": "code",
        "colab": {
          "base_uri": "https://localhost:8080/",
          "height": 295
        },
        "outputId": "4afad4af-8e61-45f5-8db4-aefb6893e55f"
      },
      "source": [
        "# Checking for normality\n",
        "\n",
        "predicted2 = regr2.predict(X).ravel()\n",
        "actual2 = data2['logged Sales']\n",
        "\n",
        "\n",
        "residual2 = actual2 - predicted2\n",
        "\n",
        "plt.hist(residual2)\n",
        "plt.title('Residual counts')\n",
        "plt.xlabel('Residual')\n",
        "plt.ylabel('Count')\n",
        "plt.show()"
      ],
      "execution_count": 18,
      "outputs": [
        {
          "output_type": "display_data",
          "data": {
            "image/png": "[encoded data removed]",
            "text/plain": [
              "<Figure size 432x288 with 1 Axes>"
            ]
          },
          "metadata": {
            "tags": []
          }
        }
      ]
    },
    {
      "cell_type": "code",
      "metadata": {
        "id": "m0J9UMacuVmE",
        "colab_type": "code",
        "colab": {
          "base_uri": "https://localhost:8080/",
          "height": 295
        },
        "outputId": "38341f36-fdc3-45d9-fb17-1492a8a009aa"
      },
      "source": [
        "#scedasticity \n",
        "\n",
        "plt.scatter(predicted2, residual2)\n",
        "plt.xlabel('Predicted')\n",
        "plt.ylabel('Residual')\n",
        "plt.axhline(y=0)\n",
        "plt.title('Residual2 vs. Predicted2')\n",
        "plt.show()"
      ],
      "execution_count": 14,
      "outputs": [
        {
          "output_type": "display_data",
          "data": {
            "image/png": "[encoded data removed]",
            "text/plain": [
              "<Figure size 432x288 with 1 Axes>"
            ]
          },
          "metadata": {
            "tags": []
          }
        }
      ]
    },
    {
      "cell_type": "code",
      "metadata": {
        "id": "q2uoZdYWxJb_",
        "colab_type": "code",
        "colab": {
          "base_uri": "https://localhost:8080/",
          "height": 204
        },
        "outputId": "7bfa4fe1-b5a0-4451-cba0-5566b2916b1c"
      },
      "source": [
        "data2['logged Newspaper'] = np.log(data2.Newspaper)\n",
        "data2.head()"
      ],
      "execution_count": 16,
      "outputs": [
        {
          "output_type": "execute_result",
          "data": {
            "text/html": [
              "<div>\n",
              "<style scoped>\n",
              "    .dataframe tbody tr th:only-of-type {\n",
              "        vertical-align: middle;\n",
              "    }\n",
              "\n",
              "    .dataframe tbody tr th {\n",
              "        vertical-align: top;\n",
              "    }\n",
              "\n",
              "    .dataframe thead th {\n",
              "        text-align: right;\n",
              "    }\n",
              "</style>\n",
              "<table border=\"1\" class=\"dataframe\">\n",
              "  <thead>\n",
              "    <tr style=\"text-align: right;\">\n",
              "      <th></th>\n",
              "      <th>Unnamed: 0</th>\n",
              "      <th>TV</th>\n",
              "      <th>Radio</th>\n",
              "      <th>Newspaper</th>\n",
              "      <th>Sales</th>\n",
              "      <th>logged Sales</th>\n",
              "      <th>logged Newspaper</th>\n",
              "    </tr>\n",
              "  </thead>\n",
              "  <tbody>\n",
              "    <tr>\n",
              "      <th>0</th>\n",
              "      <td>1</td>\n",
              "      <td>230.100</td>\n",
              "      <td>37.800</td>\n",
              "      <td>69.200</td>\n",
              "      <td>22.100</td>\n",
              "      <td>3.096</td>\n",
              "      <td>4.237</td>\n",
              "    </tr>\n",
              "    <tr>\n",
              "      <th>1</th>\n",
              "      <td>2</td>\n",
              "      <td>44.500</td>\n",
              "      <td>39.300</td>\n",
              "      <td>45.100</td>\n",
              "      <td>10.400</td>\n",
              "      <td>2.342</td>\n",
              "      <td>3.809</td>\n",
              "    </tr>\n",
              "    <tr>\n",
              "      <th>2</th>\n",
              "      <td>3</td>\n",
              "      <td>17.200</td>\n",
              "      <td>45.900</td>\n",
              "      <td>69.300</td>\n",
              "      <td>9.300</td>\n",
              "      <td>2.230</td>\n",
              "      <td>4.238</td>\n",
              "    </tr>\n",
              "    <tr>\n",
              "      <th>3</th>\n",
              "      <td>4</td>\n",
              "      <td>151.500</td>\n",
              "      <td>41.300</td>\n",
              "      <td>58.500</td>\n",
              "      <td>18.500</td>\n",
              "      <td>2.918</td>\n",
              "      <td>4.069</td>\n",
              "    </tr>\n",
              "    <tr>\n",
              "      <th>4</th>\n",
              "      <td>5</td>\n",
              "      <td>180.800</td>\n",
              "      <td>10.800</td>\n",
              "      <td>58.400</td>\n",
              "      <td>12.900</td>\n",
              "      <td>2.557</td>\n",
              "      <td>4.067</td>\n",
              "    </tr>\n",
              "  </tbody>\n",
              "</table>\n",
              "</div>"
            ],
            "text/plain": [
              "   Unnamed: 0      TV  Radio  Newspaper  Sales  logged Sales  logged Newspaper\n",
              "0           1 230.100 37.800     69.200 22.100         3.096             4.237\n",
              "1           2  44.500 39.300     45.100 10.400         2.342             3.809\n",
              "2           3  17.200 45.900     69.300  9.300         2.230             4.238\n",
              "3           4 151.500 41.300     58.500 18.500         2.918             4.069\n",
              "4           5 180.800 10.800     58.400 12.900         2.557             4.067"
            ]
          },
          "metadata": {
            "tags": []
          },
          "execution_count": 16
        }
      ]
    },
    {
      "cell_type": "code",
      "metadata": {
        "id": "iTUmL1E0y9YO",
        "colab_type": "code",
        "colab": {
          "base_uri": "https://localhost:8080/",
          "height": 179
        },
        "outputId": "ddc405c4-f4fa-4f85-b1d5-b4f2178410ff"
      },
      "source": [
        "r3= linear_model.LinearRegression()\n",
        "Y = data2['logged Sales'].values.reshape(-1, 1)\n",
        "X = data2[['TV','Radio','logged Newspaper']]\n",
        "r3.fit(X, Y)\n",
        "\n",
        "# Inspect the results.\n",
        "print('\\nCoefficients: \\n', r3.coef_)\n",
        "print('\\nIntercept: \\n', r3.intercept_)\n",
        "print('\\nR-squared:')\n",
        "print(r3.score(X, Y))"
      ],
      "execution_count": 17,
      "outputs": [
        {
          "output_type": "stream",
          "text": [
            "\n",
            "Coefficients: \n",
            " [[0.00367158 0.01172374 0.01770012]]\n",
            "\n",
            "Intercept: \n",
            " [1.69715119]\n",
            "\n",
            "R-squared:\n",
            "0.8010551381313129\n"
          ],
          "name": "stdout"
        }
      ]
    },
    {
      "cell_type": "code",
      "metadata": {
        "id": "3BnQI6K0zWqo",
        "colab_type": "code",
        "colab": {
          "base_uri": "https://localhost:8080/",
          "height": 295
        },
        "outputId": "c737c04e-929e-443e-c9a7-654da9eee204"
      },
      "source": [
        "predicted3 = r3.predict(X).ravel()\n",
        "actual3 = data2['logged Sales']\n",
        "\n",
        "\n",
        "residual3 = actual3 - predicted3\n",
        "\n",
        "plt.hist(residual3)\n",
        "plt.title('Residual counts')\n",
        "plt.xlabel('Residual')\n",
        "plt.ylabel('Count')\n",
        "plt.show()"
      ],
      "execution_count": 19,
      "outputs": [
        {
          "output_type": "display_data",
          "data": {
            "image/png": "[encoded data removed]",
            "text/plain": [
              "<Figure size 432x288 with 1 Axes>"
            ]
          },
          "metadata": {
            "tags": []
          }
        }
      ]
    },
    {
      "cell_type": "code",
      "metadata": {
        "id": "x9ZRctvwzycm",
        "colab_type": "code",
        "colab": {
          "base_uri": "https://localhost:8080/",
          "height": 295
        },
        "outputId": "a304c755-a5b7-42be-c60d-fad6e62e5330"
      },
      "source": [
        "\n",
        "plt.scatter(predicted3, residual3)\n",
        "plt.xlabel('Predicted')\n",
        "plt.ylabel('Residual')\n",
        "plt.axhline(y=0)\n",
        "plt.title('Residual3 vs. Predicted3')\n",
        "plt.show()"
      ],
      "execution_count": 20,
      "outputs": [
        {
          "output_type": "display_data",
          "data": {
            "image/png": "[encoded data removed]",
            "text/plain": [
              "<Figure size 432x288 with 1 Axes>"
            ]
          },
          "metadata": {
            "tags": []
          }
        }
      ]
    },
    {
      "cell_type": "code",
      "metadata": {
        "id": "Rgpr2vNaz93i",
        "colab_type": "code",
        "colab": {}
      },
      "source": [
        ""
      ],
      "execution_count": 0,
      "outputs": []
    }
  ]
}