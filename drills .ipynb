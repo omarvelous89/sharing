{
 "cells": [
  {
   "cell_type": "markdown",
   "metadata": {},
   "source": [
    "**You work at an e-commerce company that sells three goods: widgets, doodads, and fizzbangs. The head of advertising asks you which they should feature in their new advertising campaign. You have data on individual visitors' sessions (activity on a website, pageviews, and purchases), as well as whether or not those users converted from an advertisement for that session. You also have the cost and price information for the goods.**\n",
    "\n",
    "* The most profitable goods should be in the advertising campaign in general. We can get this from the cost and price information. \n",
    "* The next thing I would do is look at the conversion rates for individual customers and compare it to how many pageviews it takes for customer to make the purchase. Time is the most important thing when you sell online. If a customer can't find what they want quickly, they'll try somewhere else. The amount of pageviews could give us insights into which goods are hard to find. These products would benefit more some advertising exposure then other goods which are present in the public imagination\n",
    "* If we don't want to advertise those goods we could find ways to make them mroe visible in searches by categorizing them differently. \n",
    "\n",
    "\n",
    "**You work at a web design company that offers to build websites for clients. Signups have slowed, and you are tasked with finding out why. The onboarding funnel has three steps: email and password signup, plan choice, and payment. On a user level you have information on what steps they have completed as well as timestamps for all of those events for the past 3 years. You also have information on marketing spend on a weekly level.**\n",
    "\n",
    "* First I would assess where the gaps between timestamps is the largest. This could possibly identify where something in the company's bussiness plan that causes customers to stop interacting with the product. \n",
    "* Next we could assess which plan choice had the quickest time to non engagement. That plan could be modified or removed if it was losing more revenue than it brought in.\n",
    "\n",
    "**You work at a hotel website and currently the website ranks search results by price. For simplicity's sake, let's say it's a website for one city with 100 hotels. You are tasked with proposing a better ranking system. You have session information, price information for the hotels, and whether each hotel is currently available.**\n",
    "\n",
    "* Availabe hotels should be given priority. If they're unavailable they shouldn't pop up unless there is an option to be put on a waiting list. \n",
    "\n",
    "\n",
    "\n",
    "**You work at a social network, and the management is worried about churn (users stopping using the product). You are tasked with finding out if their churn is atypical. You have three years of data for users with an entry for every time they've logged in, including the timestamp and length of session.**\n",
    "* \n",
    "\n"
   ]
  },
  {
   "cell_type": "code",
   "execution_count": null,
   "metadata": {},
   "outputs": [],
   "source": []
  }
 ],
 "metadata": {
  "kernelspec": {
   "display_name": "Python 3",
   "language": "python",
   "name": "python3"
  },
  "language_info": {
   "codemirror_mode": {
    "name": "ipython",
    "version": 3
   },
   "file_extension": ".py",
   "mimetype": "text/x-python",
   "name": "python",
   "nbconvert_exporter": "python",
   "pygments_lexer": "ipython3",
   "version": "3.7.0"
  }
 },
 "nbformat": 4,
 "nbformat_minor": 2
}
