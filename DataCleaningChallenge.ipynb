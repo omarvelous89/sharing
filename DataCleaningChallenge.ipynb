{
 "cells": [
  {
   "cell_type": "code",
   "execution_count": 1,
   "metadata": {},
   "outputs": [],
   "source": [
    "import pandas as pd\n",
    "import numpy as np\n",
    "import matplotlib.pyplot as plt\n",
    "import seaborn as sns\n"
   ]
  },
  {
   "cell_type": "code",
   "execution_count": 2,
   "metadata": {},
   "outputs": [
    {
     "data": {
      "text/html": [
       "<div>\n",
       "<style scoped>\n",
       "    .dataframe tbody tr th:only-of-type {\n",
       "        vertical-align: middle;\n",
       "    }\n",
       "\n",
       "    .dataframe tbody tr th {\n",
       "        vertical-align: top;\n",
       "    }\n",
       "\n",
       "    .dataframe thead th {\n",
       "        text-align: right;\n",
       "    }\n",
       "</style>\n",
       "<table border=\"1\" class=\"dataframe\">\n",
       "  <thead>\n",
       "    <tr style=\"text-align: right;\">\n",
       "      <th></th>\n",
       "      <th>PMID/PMCID</th>\n",
       "      <th>Publisher</th>\n",
       "      <th>Journal title</th>\n",
       "      <th>Article title</th>\n",
       "      <th>COST (£) charged to Wellcome (inc VAT when charged)</th>\n",
       "    </tr>\n",
       "  </thead>\n",
       "  <tbody>\n",
       "    <tr>\n",
       "      <th>0</th>\n",
       "      <td>NaN</td>\n",
       "      <td>CUP</td>\n",
       "      <td>Psychological Medicine</td>\n",
       "      <td>Reduced parahippocampal cortical thickness in ...</td>\n",
       "      <td>£0.00</td>\n",
       "    </tr>\n",
       "    <tr>\n",
       "      <th>1</th>\n",
       "      <td>PMC3679557</td>\n",
       "      <td>ACS</td>\n",
       "      <td>Biomacromolecules</td>\n",
       "      <td>Structural characterization of a Model Gram-ne...</td>\n",
       "      <td>£2381.04</td>\n",
       "    </tr>\n",
       "    <tr>\n",
       "      <th>2</th>\n",
       "      <td>23043264  PMC3506128</td>\n",
       "      <td>ACS</td>\n",
       "      <td>J Med Chem</td>\n",
       "      <td>Fumaroylamino-4,5-epoxymorphinans and related ...</td>\n",
       "      <td>£642.56</td>\n",
       "    </tr>\n",
       "    <tr>\n",
       "      <th>3</th>\n",
       "      <td>23438330 PMC3646402</td>\n",
       "      <td>ACS</td>\n",
       "      <td>J Med Chem</td>\n",
       "      <td>Orvinols with mixed kappa/mu opioid receptor a...</td>\n",
       "      <td>£669.64</td>\n",
       "    </tr>\n",
       "    <tr>\n",
       "      <th>4</th>\n",
       "      <td>23438216 PMC3601604</td>\n",
       "      <td>ACS</td>\n",
       "      <td>J Org Chem</td>\n",
       "      <td>Regioselective opening of myo-inositol orthoes...</td>\n",
       "      <td>£685.88</td>\n",
       "    </tr>\n",
       "    <tr>\n",
       "      <th>5</th>\n",
       "      <td>PMC3579457</td>\n",
       "      <td>ACS</td>\n",
       "      <td>Journal of Medicinal Chemistry</td>\n",
       "      <td>Comparative Structural and Functional Studies ...</td>\n",
       "      <td>£2392.20</td>\n",
       "    </tr>\n",
       "    <tr>\n",
       "      <th>6</th>\n",
       "      <td>PMC3709265</td>\n",
       "      <td>ACS</td>\n",
       "      <td>Journal of Proteome Research</td>\n",
       "      <td>Mapping Proteolytic Processing in the Secretom...</td>\n",
       "      <td>£2367.95</td>\n",
       "    </tr>\n",
       "    <tr>\n",
       "      <th>7</th>\n",
       "      <td>23057412 PMC3495574</td>\n",
       "      <td>ACS</td>\n",
       "      <td>Mol Pharm</td>\n",
       "      <td>Quantitative silencing of EGFP reporter gene b...</td>\n",
       "      <td>£649.33</td>\n",
       "    </tr>\n",
       "    <tr>\n",
       "      <th>8</th>\n",
       "      <td>PMCID: PMC3780468</td>\n",
       "      <td>ACS (Amercian Chemical Society) Publications</td>\n",
       "      <td>ACS Chemical Biology</td>\n",
       "      <td>A Novel Allosteric Inhibitor of the Uridine Di...</td>\n",
       "      <td>£1294.59</td>\n",
       "    </tr>\n",
       "    <tr>\n",
       "      <th>9</th>\n",
       "      <td>PMCID: PMC3621575</td>\n",
       "      <td>ACS (Amercian Chemical Society) Publications</td>\n",
       "      <td>ACS Chemical Biology</td>\n",
       "      <td>Chemical proteomic analysis reveals the drugab...</td>\n",
       "      <td>£1294.78</td>\n",
       "    </tr>\n",
       "  </tbody>\n",
       "</table>\n",
       "</div>"
      ],
      "text/plain": [
       "              PMID/PMCID                                     Publisher  \\\n",
       "0                    NaN                                           CUP   \n",
       "1             PMC3679557                                           ACS   \n",
       "2  23043264  PMC3506128                                            ACS   \n",
       "3    23438330 PMC3646402                                           ACS   \n",
       "4   23438216 PMC3601604                                            ACS   \n",
       "5             PMC3579457                                           ACS   \n",
       "6             PMC3709265                                           ACS   \n",
       "7   23057412 PMC3495574                                            ACS   \n",
       "8      PMCID: PMC3780468  ACS (Amercian Chemical Society) Publications   \n",
       "9      PMCID: PMC3621575  ACS (Amercian Chemical Society) Publications   \n",
       "\n",
       "                    Journal title  \\\n",
       "0          Psychological Medicine   \n",
       "1               Biomacromolecules   \n",
       "2                      J Med Chem   \n",
       "3                      J Med Chem   \n",
       "4                      J Org Chem   \n",
       "5  Journal of Medicinal Chemistry   \n",
       "6    Journal of Proteome Research   \n",
       "7                       Mol Pharm   \n",
       "8            ACS Chemical Biology   \n",
       "9            ACS Chemical Biology   \n",
       "\n",
       "                                       Article title  \\\n",
       "0  Reduced parahippocampal cortical thickness in ...   \n",
       "1  Structural characterization of a Model Gram-ne...   \n",
       "2  Fumaroylamino-4,5-epoxymorphinans and related ...   \n",
       "3  Orvinols with mixed kappa/mu opioid receptor a...   \n",
       "4  Regioselective opening of myo-inositol orthoes...   \n",
       "5  Comparative Structural and Functional Studies ...   \n",
       "6  Mapping Proteolytic Processing in the Secretom...   \n",
       "7  Quantitative silencing of EGFP reporter gene b...   \n",
       "8  A Novel Allosteric Inhibitor of the Uridine Di...   \n",
       "9  Chemical proteomic analysis reveals the drugab...   \n",
       "\n",
       "  COST (£) charged to Wellcome (inc VAT when charged)  \n",
       "0                                              £0.00   \n",
       "1                                           £2381.04   \n",
       "2                                            £642.56   \n",
       "3                                            £669.64   \n",
       "4                                            £685.88   \n",
       "5                                           £2392.20   \n",
       "6                                           £2367.95   \n",
       "7                                            £649.33   \n",
       "8                                           £1294.59   \n",
       "9                                           £1294.78   "
      ]
     },
     "execution_count": 2,
     "metadata": {},
     "output_type": "execute_result"
    }
   ],
   "source": [
    "WL = pd.read_csv('WELLCOME.csv', encoding='latin1')\n",
    "WL.head(10)"
   ]
  },
  {
   "cell_type": "code",
   "execution_count": 3,
   "metadata": {},
   "outputs": [
    {
     "data": {
      "text/plain": [
       "PMID/PMCID                                             object\n",
       "Publisher                                              object\n",
       "Journal title                                          object\n",
       "Article title                                          object\n",
       "COST (£) charged to Wellcome (inc VAT when charged)    object\n",
       "dtype: object"
      ]
     },
     "execution_count": 3,
     "metadata": {},
     "output_type": "execute_result"
    }
   ],
   "source": [
    "WL.describe()\n",
    "WL.dtypes"
   ]
  },
  {
   "cell_type": "code",
   "execution_count": 4,
   "metadata": {},
   "outputs": [
    {
     "data": {
      "text/plain": [
       "count      2127.000000\n",
       "mean      24067.339972\n",
       "std      146860.665559\n",
       "min           0.000000\n",
       "25%        1280.000000\n",
       "50%        1884.010000\n",
       "75%        2321.305000\n",
       "max      999999.000000\n",
       "Name: cost, dtype: float64"
      ]
     },
     "execution_count": 4,
     "metadata": {},
     "output_type": "execute_result"
    }
   ],
   "source": [
    "\n",
    "WL['Journal title'] = WL['Journal title'].str.replace('the' , '') #removing the since it is not useful\n",
    "WL['Journal title'] = WL['Journal title'].str.replace('and' , '&') #removing and with the symbol &\n",
    "\n",
    "WL['Journal title'] = WL['Journal title'].str.replace('for' , '') \n",
    "#decided to remove this word because one entry had 'Journal of the' and another 'Journal for the'\n",
    "WL['Journal title'] = WL['Journal title'].str.replace('of' , '')\n",
    "\n",
    "WL['Journal title'] = WL['Journal title'].str.replace('.' , '')\n",
    "WL['Journal title'] = WL['Journal title'].str.strip() #removing whitespace formed by previous line\n",
    "\n",
    "WL['Journal title'] = WL['Journal title'].str.replace('j immunol' , 'journal of immunology')\n",
    "WL['Journal title'] = WL['Journal title'].str.replace('IJTLD' , 'international journal of tuberculosis & lung disease')\n",
    "WL['Journal title'] = WL['Journal title'].str.lower() #turn everything lower case \n",
    "WL['Journal title'] \n",
    "\n",
    "#removing currency symbols and modifying the column with cost to make it manageable.\n",
    "WL['cost']= WL['COST (£) charged to Wellcome (inc VAT when charged)'].str.replace('£' , '')\n",
    "WL['cost']= WL['cost'].str.replace('$', '')\n",
    "WL['cost']= WL['cost'].str.strip()\n",
    "WL['cost'].describe()\n",
    "\n",
    "WL['cost']= WL['cost'].astype('float') #changing data type to float\n",
    "WL['cost'].describe() # description with mean, median and standard deviation per journal"
   ]
  },
  {
   "cell_type": "code",
   "execution_count": 5,
   "metadata": {},
   "outputs": [
    {
     "data": {
      "text/plain": [
       "count         2126\n",
       "unique         880\n",
       "top       plos one\n",
       "freq           190\n",
       "Name: Journal title, dtype: object"
      ]
     },
     "execution_count": 5,
     "metadata": {},
     "output_type": "execute_result"
    }
   ],
   "source": [
    "WL['Journal title'].describe()"
   ]
  },
  {
   "cell_type": "code",
   "execution_count": null,
   "metadata": {},
   "outputs": [],
   "source": []
  }
 ],
 "metadata": {
  "kernelspec": {
   "display_name": "Python 3",
   "language": "python",
   "name": "python3"
  },
  "language_info": {
   "codemirror_mode": {
    "name": "ipython",
    "version": 3
   },
   "file_extension": ".py",
   "mimetype": "text/x-python",
   "name": "python",
   "nbconvert_exporter": "python",
   "pygments_lexer": "ipython3",
   "version": "3.6.7"
  }
 },
 "nbformat": 4,
 "nbformat_minor": 2
}
