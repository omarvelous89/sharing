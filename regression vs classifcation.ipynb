{
 "cells": [
  {
   "cell_type": "markdown",
   "metadata": {},
   "source": [
    "## The amount a person will spend on a given site in the next 24 months.\n",
    "### regression. we can use past purchasing history to project a spending pattern.\n",
    "\n",
    "\n",
    "## What color car someone is going to buy.\n",
    "### classification . color is a categorical variable \n",
    "\n",
    "## How many children a family will have.\n",
    "### classification. it's more useful to view the problem as families choosing to have a certain amount of children based on some factors such as income, space, debt, and personal beliefs. the output is also discrete. families do not have 1.5 children\n",
    "\n",
    "## If someone will sign up for a service.\n",
    "### classification. the likelihood of someone signing up or buying something can be based on previous purchasing history. the output is either yes or no, discrete\n",
    "\n",
    "## The number of times someone will get sick in a year.\n",
    "### classification since you can only sick a discrete amount of times.\n",
    "\n",
    "## The probability someone will get sick in the next month.\n",
    "### classification. we're being asked to find a probablity that is very similar to the first question\n",
    "\n",
    "## Which medicine will work best for a given patient.\n",
    "### classification. there is finite amount of possible medicines or combinations that are useful.\n"
   ]
  }
 ],
 "metadata": {
  "kernelspec": {
   "display_name": "Python 3",
   "language": "python",
   "name": "python3"
  },
  "language_info": {
   "codemirror_mode": {
    "name": "ipython",
    "version": 3
   },
   "file_extension": ".py",
   "mimetype": "text/x-python",
   "name": "python",
   "nbconvert_exporter": "python",
   "pygments_lexer": "ipython3",
   "version": "3.6.7"
  }
 },
 "nbformat": 4,
 "nbformat_minor": 2
}
